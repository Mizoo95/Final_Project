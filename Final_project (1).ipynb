{
 "cells": [
  {
   "cell_type": "markdown",
   "metadata": {},
   "source": [
    "# Influence of fast food restaurants on Obesity rates"
   ]
  },
  {
   "cell_type": "markdown",
   "metadata": {},
   "source": [
    "* ### Table of content\n",
    "    - Introduction\n",
    "    - Data\n",
    "    - Methodology\n",
    "    - Analysis\n",
    "    - Results and Discussions\n",
    "    - Conclusion"
   ]
  },
  {
   "cell_type": "markdown",
   "metadata": {},
   "source": [
    "* ###  Introduction<br>\n",
    "    Obesity is one of the most world Widespread phenomenon which causes a lot of serious health issues, and as it's known \n",
    "    for every one, all health care organizations all over the world are paying a great attention for this problem \n",
    "    which increases day by day. \n",
    "    In order to understand this problem more and more, I decided to study the influence of \n",
    "    fast food  restaurants prevalence around the world on obesity rates and how it affect people health, and also see\n",
    "    if we can predict possible increase of obesity rates with the increase if fast food restaurants.\n",
    "    Such a study could give us a clue on how to minimize obesity as much as possible by making people more aware\n",
    "    of fast food dangers on their health with statistical numbers and facts which have a great and more persuasive effect\n",
    "    than other health warnings. "
   ]
  },
  {
   "cell_type": "code",
   "execution_count": null,
   "metadata": {},
   "outputs": [],
   "source": []
  }
 ],
 "metadata": {
  "kernelspec": {
   "display_name": "Python",
   "language": "python",
   "name": "conda-env-python-py"
  },
  "language_info": {
   "codemirror_mode": {
    "name": "ipython",
    "version": 3
   },
   "file_extension": ".py",
   "mimetype": "text/x-python",
   "name": "python",
   "nbconvert_exporter": "python",
   "pygments_lexer": "ipython3",
   "version": "3.6.7"
  }
 },
 "nbformat": 4,
 "nbformat_minor": 4
}
