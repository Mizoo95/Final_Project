{
 "cells": [
  {
   "cell_type": "markdown",
   "metadata": {},
   "source": [
    "# Influence of fast food restaurants on Obesity rates"
   ]
  },
  {
   "cell_type": "markdown",
   "metadata": {},
   "source": [
    "* ### Table of content\n",
    "    - Introduction\n",
    "    - Data\n",
    "    - Methodology\n",
    "    - Analysis\n",
    "    - Results and Discussions\n",
    "    - Conclusion"
   ]
  },
  {
   "cell_type": "markdown",
   "metadata": {},
   "source": [
    "* ###  Introduction<br>\n",
    "    Obesity is one of the most world Widespread phenomenon which causes a lot of serious health issues, and as it's known \n",
    "    for every one, all health care organizations all over the world are paying a great attention for this problem \n",
    "    which increases day by day. \n",
    "    In order to understand this problem more and more, I decided to study the influence of \n",
    "    fast food  restaurants prevalence around the world on obesity rates and how it affect people health, and also see\n",
    "    if we can predict possible increase of obesity rates with the increase if fast food restaurants.\n",
    "    Such a study could give us a clue on how to minimize obesity as much as possible by making people more aware\n",
    "    of fast food dangers on their health with statistical numbers and facts which have a great and more persuasive effect\n",
    "    than other health warnings. "
   ]
  },
  {
   "cell_type": "markdown",
   "metadata": {},
   "source": [
    "* ### Data<br>\n",
    "* Based on the defined problem , the following data will affect our study:\n",
    "    - Obesity rates in each country all over the world.\n",
    "    - Number of fast food restaurants for each country.\n",
    "    - Other possible data may appear to be important along the study.<br><br>\n",
    "* The following resources will be needed as mentioned for data acquisition: \n",
    "    - Dataset Publishing Language for collecting each country latitude and longitude.\n",
    "    - World Population Review for downloading obesity rate over the world data.\n",
    "    - Charbin.com for collecting Subway reataurant data.\n",
    "    - Charbin.com for collecting KFC reataurant data.\n",
    "    - Charbin.com for collecting McDonald's reataurant data.\n",
    "    - qz.com for collecting Starbucks reataurant data."
   ]
  },
  {
   "cell_type": "code",
   "execution_count": null,
   "metadata": {},
   "outputs": [],
   "source": []
  }
 ],
 "metadata": {
  "kernelspec": {
   "display_name": "Python",
   "language": "python",
   "name": "conda-env-python-py"
  },
  "language_info": {
   "codemirror_mode": {
    "name": "ipython",
    "version": 3
   },
   "file_extension": ".py",
   "mimetype": "text/x-python",
   "name": "python",
   "nbconvert_exporter": "python",
   "pygments_lexer": "ipython3",
   "version": "3.6.7"
  }
 },
 "nbformat": 4,
 "nbformat_minor": 4
}
